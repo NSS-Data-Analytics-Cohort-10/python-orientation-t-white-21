{
 "cells": [
  {
   "cell_type": "markdown",
   "metadata": {},
   "source": [
    "# The Family Dictionary\n",
    "\n",
    "## Instructions\n",
    "* Define a dictionary that contains information about several members of your family. \n",
    "Use the following example as a template.\n",
    "\n",
    "```py\n",
    "my_family = {\n",
    "    \"sister\": {\n",
    "        \"name\": \"Krista\",\n",
    "        \"age\": 42\n",
    "    },\n",
    "    \"mother\": {\n",
    "        \"name\": \"Cathie\",\n",
    "        \"age\": 70\n",
    "    }\n",
    "}\n",
    "```\n",
    "\n",
    "* Using a dictionary comprehension, produce output that looks like the following example.\n",
    "\n",
    "```\n",
    "Krista is my sister and is 42 years old.\n",
    "Cathie is my mother and is 70 years old.\n",
    "```\n",
    "\n",
    "> **Helpful hint**: To convert an integer into a string in Python, it's str(integer_value)"
   ]
  },
  {
   "cell_type": "code",
   "execution_count": 11,
   "metadata": {},
   "outputs": [],
   "source": [
    "my_family = {\n",
    "    \"brother\": {\n",
    "        \"name\": \"David\",\n",
    "        \"age\": 50\n",
    "    },\n",
    "    \"mother\": {\n",
    "        \"name\": \"Sue\",\n",
    "        \"age\": 77\n",
    "    },\n",
    "        \"father\": {\n",
    "        \"name\": \"Robert\",\n",
    "        \"age\": 80\n",
    "    }\n",
    "}"
   ]
  },
  {
   "cell_type": "code",
   "execution_count": 25,
   "metadata": {},
   "outputs": [
    {
     "name": "stdout",
     "output_type": "stream",
     "text": [
      "David is my brother and is 50 years old.\n",
      "Sue is my mother and is 77 years old.\n",
      "Robert is my father and is 80 years old.\n"
     ]
    }
   ],
   "source": [
    "for fam, f_info in my_family.items():\n",
    "    print(f_info['name'] + ' is my ' + fam + ' and is ' + str(f_info['age']) + ' years old.')\n"
   ]
  },
  {
   "cell_type": "code",
   "execution_count": null,
   "metadata": {},
   "outputs": [],
   "source": []
  }
 ],
 "metadata": {
  "kernelspec": {
   "display_name": "Python 3 (ipykernel)",
   "language": "python",
   "name": "python3"
  },
  "language_info": {
   "codemirror_mode": {
    "name": "ipython",
    "version": 3
   },
   "file_extension": ".py",
   "mimetype": "text/x-python",
   "name": "python",
   "nbconvert_exporter": "python",
   "pygments_lexer": "ipython3",
   "version": "3.9.7"
  }
 },
 "nbformat": 4,
 "nbformat_minor": 2
}
