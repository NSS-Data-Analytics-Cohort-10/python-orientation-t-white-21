{
 "cells": [
  {
   "cell_type": "markdown",
   "metadata": {},
   "source": [
    "# Dictionary of Words\n",
    "\n",
    "You are going to build a Python Dictionary to represent an actual dictionary. \n",
    "Each key/value pair within the Dictionary will contain a single word as the key, and a definition as the value. \n",
    "Below is some starter code. \n",
    "You need to add a few more words and definitions to the dictionary.\n",
    "\n",
    "After you have added them, use square bracket notation to output the definition of two of the words to the console.\n",
    "\n",
    "Lastly, use the for in loop to iterate over the KeyValuePairs and display the entire dictionary to the console."
   ]
  },
  {
   "cell_type": "code",
   "execution_count": 19,
   "metadata": {},
   "outputs": [
    {
     "name": "stdout",
     "output_type": "stream",
     "text": [
      "makes play possible  +  time for rest\n",
      "The definition of tired is the feeling after seeing people\n",
      "The definition of anniversary is time for panic\n",
      "The definition of vacation is time for rest\n",
      "The definition of work is makes play possible\n"
     ]
    }
   ],
   "source": [
    "\"\"\"\n",
    "Create a dictionary with key value pairs to\n",
    "represent words (key) and its definition (value)\n",
    "\"\"\"\n",
    "word_definitions = dict()\n",
    "\n",
    "\"\"\"\n",
    "Add several more words and their definitions\n",
    "   Example: word_definitions[\"Awesome\"] = \"The feeling of students when they are learning Python\"\n",
    "\"\"\"\n",
    "word_definitions['tired'] = 'the feeling after seeing people'\n",
    "word_definitions['anniversary'] = 'time for panic'\n",
    "word_definitions['vacation'] = 'time for rest'\n",
    "word_definitions['work'] = 'makes play possible'\n",
    "\n",
    "\"\"\"\n",
    "Use square bracket lookup to get the definition of two\n",
    "words and output them to the console with `print()`\n",
    "\"\"\"\n",
    "\n",
    "print(word_definitions['work'],' + ',word_definitions['vacation'])\n",
    "\n",
    "\"\"\"\n",
    "Loop over the dictionary to get the following output:\n",
    "    The definition of [WORD] is [DEFINITION]\n",
    "    The definition of [WORD] is [DEFINITION]\n",
    "    The definition of [WORD] is [DEFINITION]\n",
    "\"\"\"\n",
    "\n",
    "for (key, value) in word_definitions.items() :\n",
    "    print('The definition of', key, 'is', value)"
   ]
  }
 ],
 "metadata": {
  "kernelspec": {
   "display_name": "Python 3 (ipykernel)",
   "language": "python",
   "name": "python3"
  },
  "language_info": {
   "codemirror_mode": {
    "name": "ipython",
    "version": 3
   },
   "file_extension": ".py",
   "mimetype": "text/x-python",
   "name": "python",
   "nbconvert_exporter": "python",
   "pygments_lexer": "ipython3",
   "version": "3.9.7"
  }
 },
 "nbformat": 4,
 "nbformat_minor": 2
}
