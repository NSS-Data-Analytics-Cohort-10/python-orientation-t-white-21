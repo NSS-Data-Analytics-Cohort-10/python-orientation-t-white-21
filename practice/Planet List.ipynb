{
 "cells": [
  {
   "cell_type": "code",
   "execution_count": 1,
   "metadata": {},
   "outputs": [],
   "source": [
    "planet_list = [\"Mercury\", \"Mars\"]"
   ]
  },
  {
   "cell_type": "markdown",
   "metadata": {},
   "source": [
    "# Planet List\n",
    "\n",
    "1. Use `append()` to add Jupiter and Saturn at the end of the list.\n",
    "1. Use the `extend()` method to add another list of the last two planets in our solar system to the end of the list.\n",
    "1. Use `insert()` to add Earth, and Venus in the correct order.\n",
    "1. Use `append()` again to add Pluto to the end of the list.\n",
    "1. Now that all the planets are in the list, slice the list in order to get the rocky planets into a new list called `rocky_planets`.\n",
    "1. Being good amateur astronomers, we know that Pluto is now a dwarf planet, so use the `del` operation to remove it from the end of `planet_list`."
   ]
  },
  {
   "cell_type": "code",
   "execution_count": 2,
   "metadata": {},
   "outputs": [
    {
     "name": "stdout",
     "output_type": "stream",
     "text": [
      "['Mercury', 'Mars', 'Jupiter', 'Saturn']\n"
     ]
    }
   ],
   "source": [
    "planet_list.append('Jupiter')\n",
    "planet_list.append('Saturn')\n",
    "print(planet_list)"
   ]
  },
  {
   "cell_type": "code",
   "execution_count": 4,
   "metadata": {},
   "outputs": [
    {
     "name": "stdout",
     "output_type": "stream",
     "text": [
      "['Mercury', 'Mars', 'Jupiter', 'Saturn', 'Neptune', 'Uranus']\n"
     ]
    }
   ],
   "source": [
    "nu = ['Neptune', 'Uranus']\n",
    "planet_list.extend(nu)\n",
    "print(planet_list)"
   ]
  },
  {
   "cell_type": "code",
   "execution_count": 5,
   "metadata": {},
   "outputs": [
    {
     "name": "stdout",
     "output_type": "stream",
     "text": [
      "['Mercury', 'Mars', 'Earth', 'Venus', 'Jupiter', 'Saturn', 'Neptune', 'Uranus']\n"
     ]
    }
   ],
   "source": [
    "planet_list.insert(2, 'Earth')\n",
    "planet_list.insert(3, 'Venus')\n",
    "print(planet_list)"
   ]
  },
  {
   "cell_type": "code",
   "execution_count": 6,
   "metadata": {},
   "outputs": [
    {
     "name": "stdout",
     "output_type": "stream",
     "text": [
      "['Mercury', 'Mars', 'Earth', 'Venus', 'Jupiter', 'Saturn', 'Neptune', 'Uranus', 'Pluto']\n"
     ]
    }
   ],
   "source": [
    "planet_list.append('Pluto')\n",
    "print(planet_list)"
   ]
  },
  {
   "cell_type": "code",
   "execution_count": 7,
   "metadata": {},
   "outputs": [
    {
     "name": "stdout",
     "output_type": "stream",
     "text": [
      "['Mercury', 'Mars', 'Earth']\n"
     ]
    }
   ],
   "source": [
    "rocky_planets = (planet_list[0:3])\n",
    "print(rocky_planets)"
   ]
  },
  {
   "cell_type": "code",
   "execution_count": 8,
   "metadata": {},
   "outputs": [
    {
     "name": "stdout",
     "output_type": "stream",
     "text": [
      "['Mercury', 'Mars', 'Earth', 'Venus', 'Jupiter', 'Saturn', 'Neptune', 'Uranus']\n"
     ]
    }
   ],
   "source": [
    "del planet_list[8]\n",
    "print(planet_list)"
   ]
  },
  {
   "cell_type": "markdown",
   "metadata": {},
   "source": [
    "<hr>\n",
    "\n",
    "## Challenge: Iterating Over Planets\n",
    "\n",
    "Create another list containing tuples. \n",
    "Each tuple will hold the name of a spacecraft that we have launched, and the names of the planet(s) that it has visited, or landed on."
   ]
  },
  {
   "cell_type": "code",
   "execution_count": 11,
   "metadata": {},
   "outputs": [],
   "source": [
    "# Example spacecraft list\n",
    "spacecraft = [\n",
    "   (\"Cassini\", \"Saturn\"),\n",
    "   (\"Viking\", \"Mars\"),\n",
    "    ('Messenger', 'Mercury'),\n",
    "    ('Galileo', 'Jupiter')\n",
    "]"
   ]
  },
  {
   "cell_type": "markdown",
   "metadata": {},
   "source": [
    "Then, iterate over your list of planets, and inside that loop, iterate over the list of tuples. \n",
    "Print, for each planet, which satellites have visited it."
   ]
  },
  {
   "cell_type": "code",
   "execution_count": 18,
   "metadata": {},
   "outputs": [],
   "source": [
    "for values in spacecraft:\n",
    "    if value == 'Saturn':\n",
    "        print(value + 'Laverne')\n",
    "    elif value == 'Mars':\n",
    "        print('Shirley')"
   ]
  },
  {
   "cell_type": "code",
   "execution_count": null,
   "metadata": {},
   "outputs": [],
   "source": []
  }
 ],
 "metadata": {
  "kernelspec": {
   "display_name": "Python 3 (ipykernel)",
   "language": "python",
   "name": "python3"
  },
  "language_info": {
   "codemirror_mode": {
    "name": "ipython",
    "version": 3
   },
   "file_extension": ".py",
   "mimetype": "text/x-python",
   "name": "python",
   "nbconvert_exporter": "python",
   "pygments_lexer": "ipython3",
   "version": "3.9.7"
  }
 },
 "nbformat": 4,
 "nbformat_minor": 2
}
