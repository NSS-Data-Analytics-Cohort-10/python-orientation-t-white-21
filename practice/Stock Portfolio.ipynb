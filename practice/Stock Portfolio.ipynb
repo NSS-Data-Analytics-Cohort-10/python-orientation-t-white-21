{
 "cells": [
  {
   "cell_type": "markdown",
   "metadata": {},
   "source": [
    "# Stock Portfolio - Advanced\n",
    "\n",
    "A block of publicly traded stock has a variety of attributes. \n",
    "Let's look at a few of them. \n",
    "A stock has a ticker symbol and a company name. \n",
    "\n",
    "### Part I.\n",
    "\n",
    "* Create a simple dictionary with ticker symbols and company names.\n",
    "\n",
    "**Example**\n",
    "```py\n",
    "stockDict = {\n",
    "    \"GM\": \"General Motors\",\n",
    "    \"CAT\":\"Caterpillar\",\n",
    "    \"EK\":\"Eastman Kodak\"\n",
    "}\n",
    "```\n",
    "\n",
    "* Create a simple list of blocks of stock. \n",
    "Make them tuples with ticker symbols, number of shares, dates and price.\n",
    "\n",
    "**Example**\n",
    "```py\n",
    "purchases = [\n",
    "    ( 'GE', 100, '10-sep-2001', 48 ),\n",
    "    ( 'CAT', 100, '1-apr-1999', 24 ),\n",
    "    ( 'GE', 200, '1-jul-1998', 56 )\n",
    "]\n",
    "```\n",
    "\n",
    "* Create a purchase history report that computes the full purchase price (shares times dollars) for each block of stock from the `purchases` dict and use the `stockDict` to look up the full company name. \n",
    "Think of this as an [INNER JOIN](https://www.postgresqltutorial.com/postgresql-inner-join/) between two tables.\n",
    "\n",
    "Example output for one block: \n",
    "> I purchased General Electric stock for $4800"
   ]
  },
  {
   "cell_type": "code",
   "execution_count": 2,
   "metadata": {},
   "outputs": [],
   "source": [
    "stockDict = {\n",
    "    \"GM\": \"General Motors\",\n",
    "    \"CAT\":\"Caterpillar\",\n",
    "    \"EK\":\"Eastman Kodak\",\n",
    "    'STZ': 'Constellation Inc'\n",
    "}\n",
    "\n",
    "purchases = [\n",
    "    ( 'GM', 100, '10-sep-2001', 48 ),\n",
    "    ( 'CAT', 100, '1-apr-1999', 24 ),\n",
    "    ( 'EK', 200, '1-jul-1998', 56 ),\n",
    "    ( 'STZ', 150, '4-feb-2007', 43)\n",
    "]"
   ]
  },
  {
   "cell_type": "code",
   "execution_count": 13,
   "metadata": {},
   "outputs": [
    {
     "ename": "TypeError",
     "evalue": "int() argument must be a string, a bytes-like object or a number, not 'list'",
     "output_type": "error",
     "traceback": [
      "\u001b[1;31m---------------------------------------------------------------------------\u001b[0m",
      "\u001b[1;31mTypeError\u001b[0m                                 Traceback (most recent call last)",
      "\u001b[1;32m~\\AppData\\Local\\Temp/ipykernel_17692/3263766467.py\u001b[0m in \u001b[0;36m<module>\u001b[1;34m\u001b[0m\n\u001b[0;32m      1\u001b[0m \u001b[1;32mfor\u001b[0m \u001b[0mab\u001b[0m\u001b[1;33m,\u001b[0m \u001b[0mcomp\u001b[0m \u001b[1;32min\u001b[0m \u001b[0mstockDict\u001b[0m\u001b[1;33m.\u001b[0m\u001b[0mitems\u001b[0m\u001b[1;33m(\u001b[0m\u001b[1;33m)\u001b[0m\u001b[1;33m:\u001b[0m\u001b[1;33m\u001b[0m\u001b[1;33m\u001b[0m\u001b[0m\n\u001b[0;32m      2\u001b[0m     \u001b[1;32mfor\u001b[0m \u001b[0mprice\u001b[0m \u001b[1;32min\u001b[0m \u001b[0mpurchases\u001b[0m\u001b[1;33m:\u001b[0m\u001b[1;33m\u001b[0m\u001b[1;33m\u001b[0m\u001b[0m\n\u001b[1;32m----> 3\u001b[1;33m         \u001b[0mdol\u001b[0m \u001b[1;33m=\u001b[0m \u001b[0mint\u001b[0m\u001b[1;33m(\u001b[0m\u001b[0mpurchases\u001b[0m\u001b[1;33m[\u001b[0m\u001b[1;36m0\u001b[0m\u001b[1;33m:\u001b[0m\u001b[1;36m1\u001b[0m\u001b[1;33m]\u001b[0m\u001b[1;33m)\u001b[0m\u001b[1;33m\u001b[0m\u001b[1;33m\u001b[0m\u001b[0m\n\u001b[0m\u001b[0;32m      4\u001b[0m         \u001b[1;31m#shares = int(''.join(map(str, purchases[3])))\u001b[0m\u001b[1;33m\u001b[0m\u001b[1;33m\u001b[0m\u001b[0m\n\u001b[0;32m      5\u001b[0m         \u001b[0mprice\u001b[0m \u001b[1;33m=\u001b[0m \u001b[0mdol\u001b[0m \u001b[1;33m*\u001b[0m \u001b[0mshares\u001b[0m\u001b[1;33m\u001b[0m\u001b[1;33m\u001b[0m\u001b[0m\n",
      "\u001b[1;31mTypeError\u001b[0m: int() argument must be a string, a bytes-like object or a number, not 'list'"
     ]
    }
   ],
   "source": [
    "\n",
    "for ab, comp in stockDict.items():\n",
    "    for price in purchases:\n",
    "        dol = int(purchases[0:1])\n",
    "        #shares = int(''.join(map(str, purchases[3])))\n",
    "        price = dol * shares\n",
    "        print('I purchased ' + comp + ' stock for ' + price)"
   ]
  },
  {
   "cell_type": "markdown",
   "metadata": {},
   "source": [
    "<hr>\n",
    "\n",
    "### Part II.\n",
    "\n",
    "* Create a second purchase summary that accumulates total investment by ticker symbol. \n",
    "\n",
    "In the above sample data, there are two blocks of `GE`. \n",
    "These can easily be combined by creating a dict where the key is the ticker and the value is the list of blocks purchased. \n",
    "The program makes one pass through the data to create the dict. \n",
    "A pass through the dict can then create a report showing each ticker symbol and all blocks of stock.\n",
    "\n",
    "Example output:\n",
    "```\n",
    "------ GE ------\n",
    "100 shares at 48 dollars each on 01-jul-1998\n",
    "200 shares at 56 dollars each on 10-sep-2001\n",
    "\n",
    "Total value of stock in portfolio: $16000\n",
    "```"
   ]
  },
  {
   "cell_type": "code",
   "execution_count": null,
   "metadata": {},
   "outputs": [],
   "source": [
    "# code here!"
   ]
  }
 ],
 "metadata": {
  "kernelspec": {
   "display_name": "Python 3 (ipykernel)",
   "language": "python",
   "name": "python3"
  },
  "language_info": {
   "codemirror_mode": {
    "name": "ipython",
    "version": 3
   },
   "file_extension": ".py",
   "mimetype": "text/x-python",
   "name": "python",
   "nbconvert_exporter": "python",
   "pygments_lexer": "ipython3",
   "version": "3.9.7"
  }
 },
 "nbformat": 4,
 "nbformat_minor": 2
}
