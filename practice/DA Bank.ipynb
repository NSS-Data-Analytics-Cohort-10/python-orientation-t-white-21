{
 "cells": [
  {
   "cell_type": "markdown",
   "metadata": {},
   "source": [
    "# DA Bank\n",
    "\n",
    "## Part I: Coins to Cash\n",
    "\n",
    "Create a function called `calc_dollars`. \n",
    "In the function body, define a dictionary and store it in a variable named `piggy_bank`. \n",
    "The dictionary should have the following keys defined.\n",
    "* quarters\n",
    "* nickels\n",
    "* dimes\n",
    "* pennies\n",
    "\n",
    "For each coin type, give yourself as many as you like.\n",
    "```py\n",
    "piggy_bank = {\n",
    "    \"pennies\": 342,\n",
    "    \"nickels\": 9,\n",
    "    \"dimes\": 32\n",
    "}\n",
    "```\n",
    "\n",
    "Once you have given yourself a large stash of coins in your `piggy_bank`, look at each key and perform the appropriate math on the integer value to determine how much money you have in dollars. \n",
    "Store that value in a variable named `dollar_amount` and print it.\n",
    "\n",
    "Given the coins shown above, the output would be `7.07` when you call `calc_dollars()`."
   ]
  },
  {
   "cell_type": "code",
   "execution_count": 36,
   "metadata": {},
   "outputs": [
    {
     "data": {
      "text/plain": [
       "34.55"
      ]
     },
     "execution_count": 36,
     "metadata": {},
     "output_type": "execute_result"
    }
   ],
   "source": [
    "# code here!\n",
    "\n",
    "def calc_dollars(p, n, d, q):\n",
    "    piggy_bank = {\n",
    "        \"pennies\": .01,\n",
    "        \"nickels\": .05,\n",
    "        \"dimes\": .1,\n",
    "        'quarters': .25\n",
    "    }\n",
    "\n",
    "    dollar_amount = piggy_bank['pennies']*p + piggy_bank['nickels']*n + piggy_bank['dimes']*d + piggy_bank['quarters']*q\n",
    "    \n",
    "    return dollar_amount\n",
    "\n",
    "calc_dollars(30, 50, 80, 95)"
   ]
  },
  {
   "cell_type": "markdown",
   "metadata": {},
   "source": [
    "<hr>\n",
    "\n",
    "## Part II: Cash to Coins\n",
    "\n",
    "Now.. Do the reverse. \n",
    "Convert the dollar amount into the coins that make up that dollar amount. \n",
    "The final result is an object with the correct number of quarters, dimes, nickels, and pennies."
   ]
  },
  {
   "cell_type": "code",
   "execution_count": 72,
   "metadata": {},
   "outputs": [
    {
     "name": "stdout",
     "output_type": "stream",
     "text": [
      "{'pennies': 4.0, 'nickels': 1, 'dimes': 1, 'quarters': 34}\n"
     ]
    }
   ],
   "source": [
    "dollar_amount = 8.69\n",
    "\n",
    "piggy_bank = {\n",
    "    \"pennies\": 0,\n",
    "    \"nickels\": 0,\n",
    "    \"dimes\": 0,\n",
    "    \"quarters\": 0\n",
    "}\n",
    "\n",
    "# Your magic Python code here\n",
    "if dollar_amount >= .01:\n",
    "        q = dollar_amount / .25\n",
    "        piggy_bank.update({'quarters': int(q)})\n",
    "if dollar_amount - int(q)*.25 >= .01:\n",
    "    d = (dollar_amount - int(q)*.25) / .1\n",
    "    piggy_bank.update({'dimes': int(d)})\n",
    "if dollar_amount - (int(q)*.25) - (int(d)*.1) >= .01:\n",
    "    n = (dollar_amount - (int(q)*.25) - (int(d)*.1)) / .05\n",
    "    piggy_bank.update({'nickels': int(n)})\n",
    "if dollar_amount - (int(q)*.25) - (int(d)*.1) - (int(n)*.05) >= .01:\n",
    "    p = (dollar_amount - (int(q)*.25) - (int(d)*.1) - (int(n)*.05)) / .01\n",
    "    piggy_bank.update({'pennies': round(p, 0)})\n",
    "    \n",
    "print(piggy_bank)       \n",
    "        "
   ]
  },
  {
   "cell_type": "markdown",
   "metadata": {},
   "source": [
    "That should produce the following output.\n",
    "\n",
    "```\n",
    ">>> print(piggyBank)\n",
    "{ 'quarters': 34, 'nickels': 1, 'dimes': 1, 'pennies': 4 }\n",
    "```"
   ]
  },
  {
   "cell_type": "code",
   "execution_count": null,
   "metadata": {},
   "outputs": [],
   "source": []
  }
 ],
 "metadata": {
  "kernelspec": {
   "display_name": "Python 3 (ipykernel)",
   "language": "python",
   "name": "python3"
  },
  "language_info": {
   "codemirror_mode": {
    "name": "ipython",
    "version": 3
   },
   "file_extension": ".py",
   "mimetype": "text/x-python",
   "name": "python",
   "nbconvert_exporter": "python",
   "pygments_lexer": "ipython3",
   "version": "3.9.7"
  }
 },
 "nbformat": 4,
 "nbformat_minor": 2
}
